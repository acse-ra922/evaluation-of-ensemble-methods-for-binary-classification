{
 "cells": [
  {
   "cell_type": "code",
   "execution_count": 1,
   "id": "c3e58522",
   "metadata": {},
   "outputs": [],
   "source": [
    "import pandas as pd\n",
    "import numpy as np\n",
    "\n",
    "data = pd.read_csv('../dataset/asteroid_training.csv')"
   ]
  },
  {
   "cell_type": "code",
   "execution_count": 2,
   "id": "dc7f4302",
   "metadata": {},
   "outputs": [],
   "source": [
    "df = pd.DataFrame(data)"
   ]
  },
  {
   "cell_type": "code",
   "execution_count": 3,
   "id": "dc6eb24e",
   "metadata": {},
   "outputs": [
    {
     "data": {
      "text/html": [
       "<div>\n",
       "<style scoped>\n",
       "    .dataframe tbody tr th:only-of-type {\n",
       "        vertical-align: middle;\n",
       "    }\n",
       "\n",
       "    .dataframe tbody tr th {\n",
       "        vertical-align: top;\n",
       "    }\n",
       "\n",
       "    .dataframe thead th {\n",
       "        text-align: right;\n",
       "    }\n",
       "</style>\n",
       "<table border=\"1\" class=\"dataframe\">\n",
       "  <thead>\n",
       "    <tr style=\"text-align: right;\">\n",
       "      <th></th>\n",
       "      <th>id</th>\n",
       "      <th>name</th>\n",
       "      <th>est_diameter_min</th>\n",
       "      <th>est_diameter_max</th>\n",
       "      <th>relative_velocity</th>\n",
       "      <th>miss_distance</th>\n",
       "      <th>orbiting_body</th>\n",
       "      <th>sentry_object</th>\n",
       "      <th>absolute_magnitude</th>\n",
       "      <th>hazardous</th>\n",
       "    </tr>\n",
       "  </thead>\n",
       "  <tbody>\n",
       "    <tr>\n",
       "      <th>0</th>\n",
       "      <td>26150198</td>\n",
       "      <td>Object_26150198</td>\n",
       "      <td>0.031956</td>\n",
       "      <td>0.071456</td>\n",
       "      <td>75374.759095</td>\n",
       "      <td>1.070689e+06</td>\n",
       "      <td>Earth</td>\n",
       "      <td>False</td>\n",
       "      <td>24.60</td>\n",
       "      <td>False</td>\n",
       "    </tr>\n",
       "    <tr>\n",
       "      <th>1</th>\n",
       "      <td>7025688</td>\n",
       "      <td>Object_7025688</td>\n",
       "      <td>0.133216</td>\n",
       "      <td>0.297879</td>\n",
       "      <td>33274.114790</td>\n",
       "      <td>1.598217e+07</td>\n",
       "      <td>Earth</td>\n",
       "      <td>False</td>\n",
       "      <td>21.50</td>\n",
       "      <td>False</td>\n",
       "    </tr>\n",
       "    <tr>\n",
       "      <th>2</th>\n",
       "      <td>43368461</td>\n",
       "      <td>Object_43368461</td>\n",
       "      <td>0.043507</td>\n",
       "      <td>0.097284</td>\n",
       "      <td>74702.349802</td>\n",
       "      <td>2.330585e+06</td>\n",
       "      <td>Earth</td>\n",
       "      <td>False</td>\n",
       "      <td>23.93</td>\n",
       "      <td>False</td>\n",
       "    </tr>\n",
       "    <tr>\n",
       "      <th>3</th>\n",
       "      <td>41099354</td>\n",
       "      <td>Object_41099354</td>\n",
       "      <td>0.012149</td>\n",
       "      <td>0.027167</td>\n",
       "      <td>33078.313997</td>\n",
       "      <td>4.561178e+07</td>\n",
       "      <td>Earth</td>\n",
       "      <td>False</td>\n",
       "      <td>26.70</td>\n",
       "      <td>False</td>\n",
       "    </tr>\n",
       "    <tr>\n",
       "      <th>4</th>\n",
       "      <td>25572576</td>\n",
       "      <td>Object_25572576</td>\n",
       "      <td>0.058151</td>\n",
       "      <td>0.130029</td>\n",
       "      <td>51956.093518</td>\n",
       "      <td>3.613123e+06</td>\n",
       "      <td>Earth</td>\n",
       "      <td>False</td>\n",
       "      <td>23.30</td>\n",
       "      <td>False</td>\n",
       "    </tr>\n",
       "  </tbody>\n",
       "</table>\n",
       "</div>"
      ],
      "text/plain": [
       "         id             name  est_diameter_min  est_diameter_max  \\\n",
       "0  26150198  Object_26150198          0.031956          0.071456   \n",
       "1   7025688   Object_7025688          0.133216          0.297879   \n",
       "2  43368461  Object_43368461          0.043507          0.097284   \n",
       "3  41099354  Object_41099354          0.012149          0.027167   \n",
       "4  25572576  Object_25572576          0.058151          0.130029   \n",
       "\n",
       "   relative_velocity  miss_distance orbiting_body  sentry_object  \\\n",
       "0       75374.759095   1.070689e+06         Earth          False   \n",
       "1       33274.114790   1.598217e+07         Earth          False   \n",
       "2       74702.349802   2.330585e+06         Earth          False   \n",
       "3       33078.313997   4.561178e+07         Earth          False   \n",
       "4       51956.093518   3.613123e+06         Earth          False   \n",
       "\n",
       "   absolute_magnitude  hazardous  \n",
       "0               24.60      False  \n",
       "1               21.50      False  \n",
       "2               23.93      False  \n",
       "3               26.70      False  \n",
       "4               23.30      False  "
      ]
     },
     "execution_count": 3,
     "metadata": {},
     "output_type": "execute_result"
    }
   ],
   "source": [
    "df.head()"
   ]
  },
  {
   "cell_type": "code",
   "execution_count": 4,
   "id": "38401241",
   "metadata": {},
   "outputs": [
    {
     "data": {
      "text/plain": [
       "Index(['id', 'name', 'est_diameter_min', 'est_diameter_max',\n",
       "       'relative_velocity', 'miss_distance', 'orbiting_body', 'sentry_object',\n",
       "       'absolute_magnitude', 'hazardous'],\n",
       "      dtype='object')"
      ]
     },
     "execution_count": 4,
     "metadata": {},
     "output_type": "execute_result"
    }
   ],
   "source": [
    "df.columns"
   ]
  },
  {
   "cell_type": "code",
   "execution_count": 6,
   "id": "61520041",
   "metadata": {},
   "outputs": [],
   "source": [
    "unknown_objects = pd.read_csv('../dataset/unknown_asteroids.csv')"
   ]
  },
  {
   "cell_type": "code",
   "execution_count": 7,
   "id": "dc50ebd1",
   "metadata": {},
   "outputs": [],
   "source": [
    "X = data.drop(columns='hazardous').copy()\n",
    "y = data.hazardous"
   ]
  },
  {
   "cell_type": "code",
   "execution_count": 8,
   "id": "f8e939d5",
   "metadata": {},
   "outputs": [],
   "source": [
    "from sklearn.model_selection import train_test_split\n",
    "\n",
    "X_train,X_test,y_train,y_test = train_test_split(X,y,train_size = .8)"
   ]
  },
  {
   "cell_type": "code",
   "execution_count": 9,
   "id": "725d6c9d",
   "metadata": {},
   "outputs": [
    {
     "data": {
      "text/plain": [
       "Index(['id', 'est_diameter_min', 'est_diameter_max', 'relative_velocity',\n",
       "       'miss_distance', 'absolute_magnitude'],\n",
       "      dtype='object')"
      ]
     },
     "execution_count": 9,
     "metadata": {},
     "output_type": "execute_result"
    }
   ],
   "source": [
    "from sklearn.preprocessing import OneHotEncoder,MinMaxScaler, LabelEncoder\n",
    "from sklearn.pipeline import Pipeline\n",
    "from sklearn.impute import SimpleImputer\n",
    "from sklearn import set_config\n",
    "\n",
    "set_config(display = \"diagram\")\n",
    "num_cols = X_train.select_dtypes(include = np.number).columns\n",
    "num_cols"
   ]
  },
  {
   "cell_type": "code",
   "execution_count": 10,
   "id": "5c5ca946",
   "metadata": {},
   "outputs": [
    {
     "data": {
      "text/html": [
       "<style>#sk-container-id-1 {color: black;background-color: white;}#sk-container-id-1 pre{padding: 0;}#sk-container-id-1 div.sk-toggleable {background-color: white;}#sk-container-id-1 label.sk-toggleable__label {cursor: pointer;display: block;width: 100%;margin-bottom: 0;padding: 0.3em;box-sizing: border-box;text-align: center;}#sk-container-id-1 label.sk-toggleable__label-arrow:before {content: \"▸\";float: left;margin-right: 0.25em;color: #696969;}#sk-container-id-1 label.sk-toggleable__label-arrow:hover:before {color: black;}#sk-container-id-1 div.sk-estimator:hover label.sk-toggleable__label-arrow:before {color: black;}#sk-container-id-1 div.sk-toggleable__content {max-height: 0;max-width: 0;overflow: hidden;text-align: left;background-color: #f0f8ff;}#sk-container-id-1 div.sk-toggleable__content pre {margin: 0.2em;color: black;border-radius: 0.25em;background-color: #f0f8ff;}#sk-container-id-1 input.sk-toggleable__control:checked~div.sk-toggleable__content {max-height: 200px;max-width: 100%;overflow: auto;}#sk-container-id-1 input.sk-toggleable__control:checked~label.sk-toggleable__label-arrow:before {content: \"▾\";}#sk-container-id-1 div.sk-estimator input.sk-toggleable__control:checked~label.sk-toggleable__label {background-color: #d4ebff;}#sk-container-id-1 div.sk-label input.sk-toggleable__control:checked~label.sk-toggleable__label {background-color: #d4ebff;}#sk-container-id-1 input.sk-hidden--visually {border: 0;clip: rect(1px 1px 1px 1px);clip: rect(1px, 1px, 1px, 1px);height: 1px;margin: -1px;overflow: hidden;padding: 0;position: absolute;width: 1px;}#sk-container-id-1 div.sk-estimator {font-family: monospace;background-color: #f0f8ff;border: 1px dotted black;border-radius: 0.25em;box-sizing: border-box;margin-bottom: 0.5em;}#sk-container-id-1 div.sk-estimator:hover {background-color: #d4ebff;}#sk-container-id-1 div.sk-parallel-item::after {content: \"\";width: 100%;border-bottom: 1px solid gray;flex-grow: 1;}#sk-container-id-1 div.sk-label:hover label.sk-toggleable__label {background-color: #d4ebff;}#sk-container-id-1 div.sk-serial::before {content: \"\";position: absolute;border-left: 1px solid gray;box-sizing: border-box;top: 0;bottom: 0;left: 50%;z-index: 0;}#sk-container-id-1 div.sk-serial {display: flex;flex-direction: column;align-items: center;background-color: white;padding-right: 0.2em;padding-left: 0.2em;position: relative;}#sk-container-id-1 div.sk-item {position: relative;z-index: 1;}#sk-container-id-1 div.sk-parallel {display: flex;align-items: stretch;justify-content: center;background-color: white;position: relative;}#sk-container-id-1 div.sk-item::before, #sk-container-id-1 div.sk-parallel-item::before {content: \"\";position: absolute;border-left: 1px solid gray;box-sizing: border-box;top: 0;bottom: 0;left: 50%;z-index: -1;}#sk-container-id-1 div.sk-parallel-item {display: flex;flex-direction: column;z-index: 1;position: relative;background-color: white;}#sk-container-id-1 div.sk-parallel-item:first-child::after {align-self: flex-end;width: 50%;}#sk-container-id-1 div.sk-parallel-item:last-child::after {align-self: flex-start;width: 50%;}#sk-container-id-1 div.sk-parallel-item:only-child::after {width: 0;}#sk-container-id-1 div.sk-dashed-wrapped {border: 1px dashed gray;margin: 0 0.4em 0.5em 0.4em;box-sizing: border-box;padding-bottom: 0.4em;background-color: white;}#sk-container-id-1 div.sk-label label {font-family: monospace;font-weight: bold;display: inline-block;line-height: 1.2em;}#sk-container-id-1 div.sk-label-container {text-align: center;}#sk-container-id-1 div.sk-container {/* jupyter's `normalize.less` sets `[hidden] { display: none; }` but bootstrap.min.css set `[hidden] { display: none !important; }` so we also need the `!important` here to be able to override the default hidden behavior on the sphinx rendered scikit-learn.org. See: https://github.com/scikit-learn/scikit-learn/issues/21755 */display: inline-block !important;position: relative;}#sk-container-id-1 div.sk-text-repr-fallback {display: none;}</style><div id=\"sk-container-id-1\" class=\"sk-top-container\"><div class=\"sk-text-repr-fallback\"><pre>Pipeline(steps=[(&#x27;imputer&#x27;, SimpleImputer()), (&#x27;scaler&#x27;, MinMaxScaler())])</pre><b>In a Jupyter environment, please rerun this cell to show the HTML representation or trust the notebook. <br />On GitHub, the HTML representation is unable to render, please try loading this page with nbviewer.org.</b></div><div class=\"sk-container\" hidden><div class=\"sk-item sk-dashed-wrapped\"><div class=\"sk-label-container\"><div class=\"sk-label sk-toggleable\"><input class=\"sk-toggleable__control sk-hidden--visually\" id=\"sk-estimator-id-1\" type=\"checkbox\" ><label for=\"sk-estimator-id-1\" class=\"sk-toggleable__label sk-toggleable__label-arrow\">Pipeline</label><div class=\"sk-toggleable__content\"><pre>Pipeline(steps=[(&#x27;imputer&#x27;, SimpleImputer()), (&#x27;scaler&#x27;, MinMaxScaler())])</pre></div></div></div><div class=\"sk-serial\"><div class=\"sk-item\"><div class=\"sk-estimator sk-toggleable\"><input class=\"sk-toggleable__control sk-hidden--visually\" id=\"sk-estimator-id-2\" type=\"checkbox\" ><label for=\"sk-estimator-id-2\" class=\"sk-toggleable__label sk-toggleable__label-arrow\">SimpleImputer</label><div class=\"sk-toggleable__content\"><pre>SimpleImputer()</pre></div></div></div><div class=\"sk-item\"><div class=\"sk-estimator sk-toggleable\"><input class=\"sk-toggleable__control sk-hidden--visually\" id=\"sk-estimator-id-3\" type=\"checkbox\" ><label for=\"sk-estimator-id-3\" class=\"sk-toggleable__label sk-toggleable__label-arrow\">MinMaxScaler</label><div class=\"sk-toggleable__content\"><pre>MinMaxScaler()</pre></div></div></div></div></div></div></div>"
      ],
      "text/plain": [
       "Pipeline(steps=[('imputer', SimpleImputer()), ('scaler', MinMaxScaler())])"
      ]
     },
     "execution_count": 10,
     "metadata": {},
     "output_type": "execute_result"
    }
   ],
   "source": [
    "num_pipe = Pipeline([('imputer',SimpleImputer()),('scaler',MinMaxScaler())])\n",
    "num_pipe\n"
   ]
  },
  {
   "cell_type": "code",
   "execution_count": 11,
   "id": "1d9d3ff4",
   "metadata": {},
   "outputs": [],
   "source": [
    "num_pipe.fit(X_train[num_cols])\n",
    "X_train[num_cols] = num_pipe.transform(X_train[num_cols])\n",
    "X_test[num_cols] = num_pipe.transform(X_test[num_cols])"
   ]
  },
  {
   "cell_type": "code",
   "execution_count": 12,
   "id": "2232f24a",
   "metadata": {},
   "outputs": [],
   "source": [
    "enc = LabelEncoder().fit(y_train)\n",
    "y_train = enc.transform(y_train)\n",
    "y_test = enc.transform(y_test)"
   ]
  },
  {
   "cell_type": "code",
   "execution_count": 13,
   "id": "3f4a1e72",
   "metadata": {},
   "outputs": [
    {
     "name": "stderr",
     "output_type": "stream",
     "text": [
      "/tmp/ipykernel_1364/1784867735.py:1: FutureWarning: The default value of numeric_only in DataFrame.corr is deprecated. In a future version, it will default to False. Select only valid columns or specify the value of numeric_only to silence this warning.\n",
      "  X_train.corr(method = \"pearson\")\n"
     ]
    },
    {
     "data": {
      "text/html": [
       "<div>\n",
       "<style scoped>\n",
       "    .dataframe tbody tr th:only-of-type {\n",
       "        vertical-align: middle;\n",
       "    }\n",
       "\n",
       "    .dataframe tbody tr th {\n",
       "        vertical-align: top;\n",
       "    }\n",
       "\n",
       "    .dataframe thead th {\n",
       "        text-align: right;\n",
       "    }\n",
       "</style>\n",
       "<table border=\"1\" class=\"dataframe\">\n",
       "  <thead>\n",
       "    <tr style=\"text-align: right;\">\n",
       "      <th></th>\n",
       "      <th>id</th>\n",
       "      <th>est_diameter_min</th>\n",
       "      <th>est_diameter_max</th>\n",
       "      <th>relative_velocity</th>\n",
       "      <th>miss_distance</th>\n",
       "      <th>sentry_object</th>\n",
       "      <th>absolute_magnitude</th>\n",
       "    </tr>\n",
       "  </thead>\n",
       "  <tbody>\n",
       "    <tr>\n",
       "      <th>id</th>\n",
       "      <td>1.000000</td>\n",
       "      <td>0.009744</td>\n",
       "      <td>0.009744</td>\n",
       "      <td>0.000881</td>\n",
       "      <td>0.009011</td>\n",
       "      <td>NaN</td>\n",
       "      <td>-0.011914</td>\n",
       "    </tr>\n",
       "    <tr>\n",
       "      <th>est_diameter_min</th>\n",
       "      <td>0.009744</td>\n",
       "      <td>1.000000</td>\n",
       "      <td>1.000000</td>\n",
       "      <td>0.172670</td>\n",
       "      <td>0.101659</td>\n",
       "      <td>NaN</td>\n",
       "      <td>-0.487971</td>\n",
       "    </tr>\n",
       "    <tr>\n",
       "      <th>est_diameter_max</th>\n",
       "      <td>0.009744</td>\n",
       "      <td>1.000000</td>\n",
       "      <td>1.000000</td>\n",
       "      <td>0.172670</td>\n",
       "      <td>0.101659</td>\n",
       "      <td>NaN</td>\n",
       "      <td>-0.487971</td>\n",
       "    </tr>\n",
       "    <tr>\n",
       "      <th>relative_velocity</th>\n",
       "      <td>0.000881</td>\n",
       "      <td>0.172670</td>\n",
       "      <td>0.172670</td>\n",
       "      <td>1.000000</td>\n",
       "      <td>0.329279</td>\n",
       "      <td>NaN</td>\n",
       "      <td>-0.353171</td>\n",
       "    </tr>\n",
       "    <tr>\n",
       "      <th>miss_distance</th>\n",
       "      <td>0.009011</td>\n",
       "      <td>0.101659</td>\n",
       "      <td>0.101659</td>\n",
       "      <td>0.329279</td>\n",
       "      <td>1.000000</td>\n",
       "      <td>NaN</td>\n",
       "      <td>-0.262424</td>\n",
       "    </tr>\n",
       "    <tr>\n",
       "      <th>sentry_object</th>\n",
       "      <td>NaN</td>\n",
       "      <td>NaN</td>\n",
       "      <td>NaN</td>\n",
       "      <td>NaN</td>\n",
       "      <td>NaN</td>\n",
       "      <td>NaN</td>\n",
       "      <td>NaN</td>\n",
       "    </tr>\n",
       "    <tr>\n",
       "      <th>absolute_magnitude</th>\n",
       "      <td>-0.011914</td>\n",
       "      <td>-0.487971</td>\n",
       "      <td>-0.487971</td>\n",
       "      <td>-0.353171</td>\n",
       "      <td>-0.262424</td>\n",
       "      <td>NaN</td>\n",
       "      <td>1.000000</td>\n",
       "    </tr>\n",
       "  </tbody>\n",
       "</table>\n",
       "</div>"
      ],
      "text/plain": [
       "                          id  est_diameter_min  est_diameter_max  \\\n",
       "id                  1.000000          0.009744          0.009744   \n",
       "est_diameter_min    0.009744          1.000000          1.000000   \n",
       "est_diameter_max    0.009744          1.000000          1.000000   \n",
       "relative_velocity   0.000881          0.172670          0.172670   \n",
       "miss_distance       0.009011          0.101659          0.101659   \n",
       "sentry_object            NaN               NaN               NaN   \n",
       "absolute_magnitude -0.011914         -0.487971         -0.487971   \n",
       "\n",
       "                    relative_velocity  miss_distance  sentry_object  \\\n",
       "id                           0.000881       0.009011            NaN   \n",
       "est_diameter_min             0.172670       0.101659            NaN   \n",
       "est_diameter_max             0.172670       0.101659            NaN   \n",
       "relative_velocity            1.000000       0.329279            NaN   \n",
       "miss_distance                0.329279       1.000000            NaN   \n",
       "sentry_object                     NaN            NaN            NaN   \n",
       "absolute_magnitude          -0.353171      -0.262424            NaN   \n",
       "\n",
       "                    absolute_magnitude  \n",
       "id                           -0.011914  \n",
       "est_diameter_min             -0.487971  \n",
       "est_diameter_max             -0.487971  \n",
       "relative_velocity            -0.353171  \n",
       "miss_distance                -0.262424  \n",
       "sentry_object                      NaN  \n",
       "absolute_magnitude            1.000000  "
      ]
     },
     "execution_count": 13,
     "metadata": {},
     "output_type": "execute_result"
    }
   ],
   "source": [
    "X_train.corr(method = \"pearson\")"
   ]
  },
  {
   "cell_type": "code",
   "execution_count": 14,
   "id": "6c5391e0",
   "metadata": {},
   "outputs": [],
   "source": [
    "X_train.drop(columns=['sentry_object','orbiting_body','name'],inplace=True)"
   ]
  },
  {
   "cell_type": "code",
   "execution_count": 15,
   "id": "22892b53",
   "metadata": {},
   "outputs": [],
   "source": [
    "X_test.drop(columns=['sentry_object','orbiting_body','name'],inplace=True)"
   ]
  },
  {
   "cell_type": "code",
   "execution_count": 16,
   "id": "928212b0",
   "metadata": {},
   "outputs": [],
   "source": [
    "est_daimeter_min_mean = X_train['est_diameter_min'].mean()\n",
    "est_diameter_max_mean = X_train['est_diameter_max'].mean()\n",
    "relative_velocity_mean = X_train['relative_velocity'].mean()"
   ]
  },
  {
   "cell_type": "code",
   "execution_count": 17,
   "id": "f3cb3257",
   "metadata": {},
   "outputs": [],
   "source": [
    "#removing outliers\n",
    "\n",
    "for data in X_train['est_diameter_min']:\n",
    "    if data>est_daimeter_min_mean:\n",
    "        data = np.nan\n",
    "        \n",
    "for data in X_train['est_diameter_max']:\n",
    "    if data>est_diameter_max_mean:\n",
    "        data = np.nan\n",
    "        \n",
    "for data in X_train['relative_velocity']:\n",
    "    if data>relative_velocity_mean:\n",
    "        data = np.nan      \n",
    "        \n",
    "for data in X_test['est_diameter_min']:\n",
    "    if data>est_daimeter_min_mean:\n",
    "        data = np.nan\n",
    "                \n",
    "for data in X_test['est_diameter_max']:\n",
    "    if data>est_diameter_max_mean:\n",
    "        data = np.nan        \n",
    "\n",
    "for data in X_test['relative_velocity']:\n",
    "    if data>relative_velocity_mean:\n",
    "        data = np.nan\n"
   ]
  },
  {
   "cell_type": "code",
   "execution_count": 18,
   "id": "48bd48d5",
   "metadata": {},
   "outputs": [
    {
     "data": {
      "text/plain": [
       "id                    0\n",
       "est_diameter_min      0\n",
       "est_diameter_max      0\n",
       "relative_velocity     0\n",
       "miss_distance         0\n",
       "absolute_magnitude    0\n",
       "dtype: int64"
      ]
     },
     "execution_count": 18,
     "metadata": {},
     "output_type": "execute_result"
    }
   ],
   "source": [
    "X_train.isnull().sum()"
   ]
  },
  {
   "cell_type": "code",
   "execution_count": 19,
   "id": "011cfe0d",
   "metadata": {},
   "outputs": [
    {
     "data": {
      "text/plain": [
       "id                    0\n",
       "est_diameter_min      0\n",
       "est_diameter_max      0\n",
       "relative_velocity     0\n",
       "miss_distance         0\n",
       "absolute_magnitude    0\n",
       "dtype: int64"
      ]
     },
     "execution_count": 19,
     "metadata": {},
     "output_type": "execute_result"
    }
   ],
   "source": [
    "X_test.isnull().sum()\n"
   ]
  },
  {
   "cell_type": "code",
   "execution_count": null,
   "id": "43e6b7a6",
   "metadata": {},
   "outputs": [],
   "source": []
  }
 ],
 "metadata": {
  "kernelspec": {
   "display_name": "Python 3 (ipykernel)",
   "language": "python",
   "name": "python3"
  },
  "language_info": {
   "codemirror_mode": {
    "name": "ipython",
    "version": 3
   },
   "file_extension": ".py",
   "mimetype": "text/x-python",
   "name": "python",
   "nbconvert_exporter": "python",
   "pygments_lexer": "ipython3",
   "version": "3.10.4"
  }
 },
 "nbformat": 4,
 "nbformat_minor": 5
}
