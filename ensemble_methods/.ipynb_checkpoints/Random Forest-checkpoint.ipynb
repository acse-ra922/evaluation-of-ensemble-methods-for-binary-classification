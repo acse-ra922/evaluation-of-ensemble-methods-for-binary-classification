{
 "cells": [
  {
   "cell_type": "code",
   "execution_count": null,
   "id": "a5e1cb72",
   "metadata": {},
   "outputs": [],
   "source": [
    "import pandas as pd\n",
    "import numpy as np"
   ]
  },
  {
   "cell_type": "code",
   "execution_count": null,
   "id": "76a4b9ac",
   "metadata": {},
   "outputs": [],
   "source": [
    "X_train = pd.read_csv('../cleaned_datasets/X_train.csv')\n",
    "X_test = pd.read_csv('../cleaned_datasets/X_test.csv')\n",
    "X_valid = pd.read_csv('../cleaned_datasets/X_valid.csv')\n",
    "\n",
    "y_train = pd.read_csv('../cleaned_datasets/y_train.csv')\n",
    "y_test = pd.read_csv('../cleaned_datasets/y_test.csv')\n",
    "y_valid = pd.read_csv('../cleaned_datasets/y_valid.csv')"
   ]
  }
 ],
 "metadata": {
  "kernelspec": {
   "display_name": "Python 3 (ipykernel)",
   "language": "python",
   "name": "python3"
  },
  "language_info": {
   "codemirror_mode": {
    "name": "ipython",
    "version": 3
   },
   "file_extension": ".py",
   "mimetype": "text/x-python",
   "name": "python",
   "nbconvert_exporter": "python",
   "pygments_lexer": "ipython3",
   "version": "3.10.8"
  }
 },
 "nbformat": 4,
 "nbformat_minor": 5
}
