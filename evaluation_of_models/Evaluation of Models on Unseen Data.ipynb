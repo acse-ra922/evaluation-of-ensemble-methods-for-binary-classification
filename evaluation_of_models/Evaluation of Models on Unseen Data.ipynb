{
 "cells": [
  {
   "cell_type": "markdown",
   "id": "a131f1cf",
   "metadata": {},
   "source": [
    "# Reading Unseen Data"
   ]
  },
  {
   "cell_type": "code",
   "execution_count": 2,
   "id": "eb2747e3",
   "metadata": {},
   "outputs": [],
   "source": [
    "#read unseen data\n",
    "\n",
    "import pandas as pd\n",
    "data = pd.read_csv(\"../cleaned_datasets/unseen_data.csv\")\n",
    "df = pd.DataFrame(data)"
   ]
  },
  {
   "cell_type": "code",
   "execution_count": 3,
   "id": "13c6c01b",
   "metadata": {},
   "outputs": [
    {
     "data": {
      "text/html": [
       "<div>\n",
       "<style scoped>\n",
       "    .dataframe tbody tr th:only-of-type {\n",
       "        vertical-align: middle;\n",
       "    }\n",
       "\n",
       "    .dataframe tbody tr th {\n",
       "        vertical-align: top;\n",
       "    }\n",
       "\n",
       "    .dataframe thead th {\n",
       "        text-align: right;\n",
       "    }\n",
       "</style>\n",
       "<table border=\"1\" class=\"dataframe\">\n",
       "  <thead>\n",
       "    <tr style=\"text-align: right;\">\n",
       "      <th></th>\n",
       "      <th>relative_velocity</th>\n",
       "      <th>miss_distance</th>\n",
       "      <th>absolute_magnitude</th>\n",
       "      <th>avg_est_diameter</th>\n",
       "    </tr>\n",
       "  </thead>\n",
       "  <tbody>\n",
       "    <tr>\n",
       "      <th>0</th>\n",
       "      <td>-1.666660</td>\n",
       "      <td>0.238278</td>\n",
       "      <td>0.188707</td>\n",
       "      <td>-0.379905</td>\n",
       "    </tr>\n",
       "    <tr>\n",
       "      <th>1</th>\n",
       "      <td>-0.481196</td>\n",
       "      <td>-0.710986</td>\n",
       "      <td>-0.344876</td>\n",
       "      <td>-0.153465</td>\n",
       "    </tr>\n",
       "    <tr>\n",
       "      <th>2</th>\n",
       "      <td>-0.823310</td>\n",
       "      <td>0.401916</td>\n",
       "      <td>3.545684</td>\n",
       "      <td>-0.602499</td>\n",
       "    </tr>\n",
       "    <tr>\n",
       "      <th>3</th>\n",
       "      <td>-0.937676</td>\n",
       "      <td>1.131803</td>\n",
       "      <td>-0.238866</td>\n",
       "      <td>-0.211773</td>\n",
       "    </tr>\n",
       "    <tr>\n",
       "      <th>4</th>\n",
       "      <td>-1.687920</td>\n",
       "      <td>-0.015581</td>\n",
       "      <td>0.330053</td>\n",
       "      <td>-0.417831</td>\n",
       "    </tr>\n",
       "  </tbody>\n",
       "</table>\n",
       "</div>"
      ],
      "text/plain": [
       "   relative_velocity  miss_distance  absolute_magnitude  avg_est_diameter\n",
       "0          -1.666660       0.238278            0.188707         -0.379905\n",
       "1          -0.481196      -0.710986           -0.344876         -0.153465\n",
       "2          -0.823310       0.401916            3.545684         -0.602499\n",
       "3          -0.937676       1.131803           -0.238866         -0.211773\n",
       "4          -1.687920      -0.015581            0.330053         -0.417831"
      ]
     },
     "execution_count": 3,
     "metadata": {},
     "output_type": "execute_result"
    }
   ],
   "source": [
    "df.head()"
   ]
  },
  {
   "cell_type": "markdown",
   "id": "cf4c7378",
   "metadata": {},
   "source": [
    "# Importing trained models"
   ]
  },
  {
   "cell_type": "code",
   "execution_count": 4,
   "id": "ffc2cc06",
   "metadata": {},
   "outputs": [],
   "source": [
    "import pickle\n",
    "\n",
    "with open('../trained_models/tuned_rf_model.pkl', 'rb') as f:\n",
    "    model_rf = pickle.load(f)"
   ]
  },
  {
   "cell_type": "code",
   "execution_count": 5,
   "id": "d38acda7",
   "metadata": {},
   "outputs": [],
   "source": [
    "with open('../trained_models/tuned_sc_model.pkl', 'rb') as f:\n",
    "    model_sc = pickle.load(f)"
   ]
  },
  {
   "cell_type": "code",
   "execution_count": 6,
   "id": "8cbf32d1",
   "metadata": {},
   "outputs": [],
   "source": [
    "with open('../trained_models/tuned_vc_model.pkl', 'rb') as f:\n",
    "    model_vc = pickle.load(f)"
   ]
  },
  {
   "cell_type": "code",
   "execution_count": 7,
   "id": "9d71c6e9",
   "metadata": {},
   "outputs": [],
   "source": [
    "with open('../trained_models/tuned_xgboost_model.pkl', 'rb') as f:\n",
    "    model_xg = pickle.load(f)"
   ]
  },
  {
   "cell_type": "markdown",
   "id": "9681fd47",
   "metadata": {},
   "source": [
    "# Evaluating the models on unseen data"
   ]
  },
  {
   "cell_type": "markdown",
   "id": "6482f0de",
   "metadata": {},
   "source": [
    "The code below imports the `time` module, which is a built-in Python module that provides a way to measure time in various units. The purpose of the code is to measure the time taken by four different machine learning models to make predictions on a given dataset.\n",
    "\n",
    "To accomplish this, a list named `times` is created to store the time taken by each model. The `start_time` variable is then set to the current time using the `time.time()` function. This function returns the current time in seconds.\n",
    "\n",
    "After setting the `start_time`, each machine learning model is used to make predictions on the given dataset, which is represented by the variable `df`. The time taken by each model to make predictions is calculated by subtracting the `start_time` from the current time, and this value is appended to the `times` list.\n",
    "\n",
    "Finally, the `times` list is printed to the console, which displays the time taken by each model to make predictions. This information can be used to compare the performance of the different models and choose the one that provides the best results in the shortest amount of time."
   ]
  },
  {
   "cell_type": "code",
   "execution_count": 10,
   "id": "0b5fb014",
   "metadata": {},
   "outputs": [
    {
     "name": "stdout",
     "output_type": "stream",
     "text": [
      "[0.01491999626159668, 0.019935131072998047, 0.014592647552490234, 0.004256010055541992]\n"
     ]
    },
    {
     "name": "stderr",
     "output_type": "stream",
     "text": [
      "/home/rubabatwal/miniconda3/envs/ese-msc/lib/python3.7/site-packages/sklearn/base.py:444: UserWarning: X has feature names, but RandomForestClassifier was fitted without feature names\n",
      "  f\"X has feature names, but {self.__class__.__name__} was fitted without\"\n"
     ]
    }
   ],
   "source": [
    "import time\n",
    "\n",
    "# Create a list to store the time taken by each model to make predictions\n",
    "times = []\n",
    "\n",
    "# Record the time taken by each model to make predictions\n",
    "start_time = time.time()\n",
    "prediction_rf = model_rf.predict(df)\n",
    "times.append(time.time() - start_time)\n",
    "\n",
    "start_time = time.time()\n",
    "prediction_sc = model_sc.predict(df)\n",
    "times.append(time.time() - start_time)\n",
    "\n",
    "start_time = time.time()\n",
    "prediction_vc = model_vc.predict(df)\n",
    "times.append(time.time() - start_time)\n",
    "\n",
    "start_time = time.time()\n",
    "prediction_xg = model_xg.predict(df)\n",
    "times.append(time.time() - start_time)\n",
    "\n",
    "\n",
    "print(times)\n"
   ]
  },
  {
   "cell_type": "code",
   "execution_count": 11,
   "id": "49a39279",
   "metadata": {},
   "outputs": [
    {
     "data": {
      "image/png": "[encoded data removed]",
      "text/plain": [
       "<Figure size 640x480 with 1 Axes>"
      ]
     },
     "metadata": {},
     "output_type": "display_data"
    }
   ],
   "source": [
    "#visualising the time taken to predict\n",
    "import matplotlib.pyplot as plt\n",
    "import numpy as np\n",
    "\n",
    "models = ['Random Forest', 'Stacking Classifier', 'Voting Classifier', 'XGBoost']\n",
    "y_pos = np.arange(len(models))\n",
    "\n",
    "plt.bar(y_pos, times, align='center', alpha=0.5)\n",
    "plt.xticks(y_pos, models)\n",
    "plt.ylabel('Time Taken')\n",
    "plt.title('Time Taken to Predict by Each Model')\n",
    "\n",
    "plt.show()"
   ]
  },
  {
   "cell_type": "markdown",
   "id": "edbaf93a",
   "metadata": {},
   "source": [
    "From the above results, it is evident that the XGBoost Classifier has the most optimised prediction process, as it produces the fastest results. Moreover, it should also be noted that the Voting and Stacking Classifiers which are a combination of ensemble methods including XGBoost, are not as fast as the other two ensemble methods, and have varying prediction speeds. This is because the voting and stacking classifiers combines multiple models (e.g., decision tree, random forest, etc.) to make a prediction, while XGBoost uses a gradient boosting algorithm. Additionally, the voting classifier and stacking classifier combine multiple models, and the more models that are combined, the longer they may take to make a prediction."
   ]
  },
  {
   "cell_type": "markdown",
   "id": "700b4d5e",
   "metadata": {},
   "source": [
    "# Saving the predictions"
   ]
  },
  {
   "cell_type": "code",
   "execution_count": 13,
   "id": "1e8d86bc",
   "metadata": {},
   "outputs": [],
   "source": [
    "#saving the predictions made by the above models\n",
    "prediction_rf = pd.DataFrame(prediction_rf)\n",
    "prediction_rf.to_csv(\"prediction_rf.csv\")"
   ]
  },
  {
   "cell_type": "code",
   "execution_count": 19,
   "id": "34369d25",
   "metadata": {},
   "outputs": [],
   "source": [
    "prediction_sc = pd.DataFrame(prediction_sc)\n",
    "prediction_sc.to_csv(\"prediction_sc.csv\")"
   ]
  },
  {
   "cell_type": "code",
   "execution_count": 18,
   "id": "73398712",
   "metadata": {},
   "outputs": [],
   "source": [
    "prediction_vc = pd.DataFrame(prediction_vc)\n",
    "prediction_vc.to_csv(\"prediction_vc.csv\")"
   ]
  },
  {
   "cell_type": "code",
   "execution_count": 16,
   "id": "9bc9e908",
   "metadata": {},
   "outputs": [],
   "source": [
    "prediction_xg = pd.DataFrame(prediction_xg)\n",
    "prediction_xg.to_csv(\"prediction_xg.csv\")"
   ]
  },
  {
   "cell_type": "code",
   "execution_count": null,
   "id": "7e8dbc92",
   "metadata": {},
   "outputs": [],
   "source": []
  }
 ],
 "metadata": {
  "kernelspec": {
   "display_name": "Python 3 (ipykernel)",
   "language": "python",
   "name": "python3"
  },
  "language_info": {
   "codemirror_mode": {
    "name": "ipython",
    "version": 3
   },
   "file_extension": ".py",
   "mimetype": "text/x-python",
   "name": "python",
   "nbconvert_exporter": "python",
   "pygments_lexer": "ipython3",
   "version": "3.7.13"
  }
 },
 "nbformat": 4,
 "nbformat_minor": 5
}
