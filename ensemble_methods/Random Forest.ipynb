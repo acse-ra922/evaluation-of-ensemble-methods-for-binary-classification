{
 "cells": [
  {
   "cell_type": "code",
   "execution_count": 25,
   "id": "a5e1cb72",
   "metadata": {},
   "outputs": [],
   "source": [
    "import pandas as pd\n",
    "import numpy as np\n",
    "import seaborn as sns\n",
    "import matplotlib.pyplot as plt"
   ]
  },
  {
   "cell_type": "code",
   "execution_count": 26,
   "id": "76a4b9ac",
   "metadata": {},
   "outputs": [],
   "source": [
    "X_train = pd.read_csv('../cleaned_datasets/X_train.csv')\n",
    "X_test = pd.read_csv('../cleaned_datasets/X_test.csv')\n",
    "X_valid = pd.read_csv('../cleaned_datasets/X_valid.csv')\n",
    "\n",
    "y_train = pd.read_csv('../cleaned_datasets/y_train.csv')\n",
    "y_test = pd.read_csv('../cleaned_datasets/y_test.csv')\n",
    "y_valid = pd.read_csv('../cleaned_datasets/y_valid.csv')"
   ]
  },
  {
   "cell_type": "code",
   "execution_count": 27,
   "id": "dc1f9362",
   "metadata": {},
   "outputs": [
    {
     "data": {
      "image/png": "[encoded data removed]",
      "text/plain": [
       "<Figure size 640x480 with 1 Axes>"
      ]
     },
     "metadata": {},
     "output_type": "display_data"
    }
   ],
   "source": [
    "sns.countplot(data=y_train, x='hazardous')\n",
    "plt.show()"
   ]
  },
  {
   "cell_type": "code",
   "execution_count": 28,
   "id": "8bb184b0",
   "metadata": {},
   "outputs": [
    {
     "data": {
      "image/png": "[encoded data removed]",
      "text/plain": [
       "<Figure size 640x480 with 1 Axes>"
      ]
     },
     "metadata": {},
     "output_type": "display_data"
    }
   ],
   "source": [
    "sns.countplot(data=y_valid, x='hazardous')\n",
    "plt.show()\n",
    "# validation dataset has a class imbalance for 'hazardous' unlike that in training set and this will affect model \n",
    "# performance as will be seen further"
   ]
  },
  {
   "cell_type": "markdown",
   "id": "ca848c2b",
   "metadata": {},
   "source": [
    "## Baseline Model:"
   ]
  },
  {
   "cell_type": "code",
   "execution_count": 29,
   "id": "d1c080a4",
   "metadata": {},
   "outputs": [
    {
     "name": "stdout",
     "output_type": "stream",
     "text": [
      "Baseline Model Accuracy:  0.8404401650618982\n",
      "Baseline Confusion Matrix: \n",
      "[[581  91]\n",
      " [ 25  30]]\n",
      "\n",
      "Baseline Classification Report:\n",
      "               precision    recall  f1-score   support\n",
      "\n",
      "           0       0.96      0.86      0.91       672\n",
      "           1       0.25      0.55      0.34        55\n",
      "\n",
      "    accuracy                           0.84       727\n",
      "   macro avg       0.60      0.71      0.63       727\n",
      "weighted avg       0.90      0.84      0.87       727\n",
      "\n",
      "\n",
      "Baseline Precision Score: 0.24793388429752067\n",
      "\n",
      "Baseline Recall Score: 0.5454545454545454\n",
      "\n",
      "Baseline F1 Score: 0.3409090909090909\n",
      "\n",
      "Baseline ROC AUC Score: 0.7050189393939394\n"
     ]
    }
   ],
   "source": [
    "from sklearn.ensemble import RandomForestClassifier\n",
    "from sklearn.metrics import classification_report, confusion_matrix, accuracy_score\n",
    "from sklearn.metrics import  precision_score, recall_score, f1_score, roc_auc_score\n",
    "\n",
    "baseline_model = RandomForestClassifier(random_state = 42)\n",
    "baseline_model.fit(X_train, y_train.values.ravel()) #to convert y_train to NumPy array, so ravel() could be used, or else there was warning that y_train was a column vector\n",
    "\n",
    "y_pred_baseline = baseline_model.predict(X_valid)\n",
    "\n",
    "print(\"Baseline Model Accuracy: \", accuracy_score(y_valid, y_pred_baseline))\n",
    "print(\"Baseline Confusion Matrix: \")\n",
    "print(confusion_matrix(y_valid, y_pred_baseline))\n",
    "print(\"\\nBaseline Classification Report:\\n\", classification_report(y_valid, y_pred_baseline))\n",
    "print(\"\\nBaseline Precision Score:\", precision_score(y_valid, y_pred_baseline))\n",
    "print(\"\\nBaseline Recall Score:\", recall_score(y_valid, y_pred_baseline))\n",
    "print(\"\\nBaseline F1 Score:\",f1_score(y_valid, y_pred_baseline))\n",
    "print(\"\\nBaseline ROC AUC Score:\", roc_auc_score(y_valid, y_pred_baseline))"
   ]
  },
  {
   "cell_type": "markdown",
   "id": "686bd62a",
   "metadata": {},
   "source": [
    "A brief interpretation of the scores of the baseline model:\n",
    "\n",
    "**Accuracy**: The accuracy score is 84.04%, which means that the model is correctly classifying the instances around 84% of the time. However, accuracy can be misleading when dealing with imbalanced datasets, so it is essential to look at other metrics as well.\n",
    "\n",
    "**Confusion Matrix**: The confusion matrix provides a detailed view of the true positives (TP), true negatives (TN), false positives (FP), and false negatives (FN). In this case:\n",
    "\n",
    "    1. 581 instances were correctly classified as non-hazardous (TN).\n",
    "    2. 30 instances were correctly classified as hazardous (TP).\n",
    "    3. 91 instances were classified as hazardous but were actually non-hazardous (FP).\n",
    "    4. 25 instances were classified as non-hazardous but were actually hazardous (FN).\n",
    "\n",
    "**Precision**: The precision score for the positive (hazardous) class is 24.79%, which indicates that out of all the instances predicted as hazardous, only 24.79% were actually hazardous.\n",
    "\n",
    "**Classification Report**:\n",
    "1. Precision: Precision is the ratio of true positives (TP) to the sum of true positives and false positives (FP). It measures the proportion of correct positive predictions out of all positive predictions made by the model.\n",
    "    1. For class 0 (non-hazardous): The model has a precision of 96%, meaning that 96% of the instances predicted as non-hazardous were indeed non-hazardous.\n",
    "    2. For class 1 (hazardous): The model has a precision of 25%, meaning that only 25% of the instances predicted as hazardous were actually hazardous.\n",
    "2. Recall: Recall is the ratio of true positives (TP) to the sum of true positives and false negatives (FN). It measures the proportion of actual positive instances that were correctly identified by the model.\n",
    "    1. For class 0 (non-hazardous): The model has a recall of 86%, meaning that it correctly identified 86% of the non-hazardous instances.\n",
    "    2. For class 1 (hazardous): The model has a recall of 55%, meaning that it correctly identified 55% of the hazardous instances.\n",
    "3. F1-score: The F1-score is the harmonic mean of precision and recall. It provides a balanced measure of a model's performance, especially when dealing with imbalanced datasets.\n",
    "    1. For class 0 (non-hazardous): The model has an F1-score of 91%, which indicates a good balance between precision and recall for the non-hazardous class.\n",
    "    2. For class 1 (hazardous): The model has an F1-score of 34%, which indicates a relatively poor balance between precision and recall for the hazardous class.\n",
    "4. Support: Support is the number of actual occurrences of each class in the dataset.\n",
    "\n",
    "    1. For class 0 (non-hazardous): There are 672 instances in the dataset.\n",
    "    2. For class 1 (hazardous): There are 55 instances in the dataset.\n",
    "\n",
    "**Recall**: The recall score for the positive (hazardous) class is 55%, which indicates that out of all the actual hazardous instances, the model correctly identified 55% of them.\n",
    "\n",
    "**F1 Score**: The F1 score for the positive (hazardous) class is 34%, which is the harmonic mean of precision and recall. It gives a balanced measure of the model's performance on the positive class, especially when there is an imbalance in the dataset.\n",
    "\n",
    "**ROC AUC Score**: The ROC AUC score is 70.50%, which measures the model's ability to distinguish between the two classes. A score of 100% would indicate a perfect classifier, while a score of 50% means the model is no better than random guessing. A score of 70.50% suggests that the model has moderate discrimination power.\n",
    "\n",
    "The model performs well on the non-hazardous class but struggles with the hazardous class. This is likely due to the imbalanced nature of the validation dataset, and further optimization should help improve the model's performance on the hazardous class."
   ]
  },
  {
   "cell_type": "markdown",
   "id": "94944c35",
   "metadata": {},
   "source": [
    "## Hyperparamter Tuning using GridSearchCV:"
   ]
  },
  {
   "cell_type": "code",
   "execution_count": null,
   "id": "fe8a76a7",
   "metadata": {},
   "outputs": [],
   "source": [
    "from sklearn.model_selection import GridSearchCV\n",
    "\n",
    "param_grid = {\n",
    "    'n_estimators': [50, 100, 200],\n",
    "    'max_depth': [None, 10, 20, 30],\n",
    "    'min_samples_split': [2, 5, 10],\n",
    "    'min_samples_leaf': [1, 2, 4]\n",
    "}\n",
    "\n",
    "grid_search = GridSearchCV(estimator = RandomForestClassifier(random_state=42), param_grid=param_grid, cv=5, verbose=0, n_jobs=-1)\n",
    "grid_search.fit(X_train, y_train.values.ravel())"
   ]
  },
  {
   "cell_type": "code",
   "execution_count": null,
   "id": "fdfcc608",
   "metadata": {},
   "outputs": [],
   "source": [
    "best_params = grid_search.best_params_\n",
    "print(\"Best Parameters: \", best_params)"
   ]
  },
  {
   "cell_type": "code",
   "execution_count": null,
   "id": "abe46690",
   "metadata": {},
   "outputs": [],
   "source": [
    "tuned_model = RandomForestClassifier(random_state = 42, max_depth = None, min_samples_split = 2, \n",
    "                                     n_estimators = 50, min_samples_leaf = 1)\n",
    "\n",
    "tuned_model.fit(X_train, y_train.values.ravel())\n",
    "\n",
    "y_pred_tuned = tuned_model.predict(X_valid)\n",
    "\n",
    "print(\"Tuned Model Accuracy: \", accuracy_score(y_valid, y_pred_tuned))\n",
    "print(\"Tuned Confusion Matrix: \")\n",
    "print(confusion_matrix(y_valid, y_pred_tuned))\n",
    "print(\"\\nTuned Classification Report:\\n\", classification_report(y_valid, y_pred_tuned))\n",
    "print(\"\\nTuned Precision Score:\", precision_score(y_valid, y_pred_tuned))\n",
    "print(\"\\nTuned Recall Score:\", recall_score(y_valid, y_pred_tuned))\n",
    "print(\"\\nTuned F1 Score:\",f1_score(y_valid, y_pred_tuned))\n",
    "print(\"\\nTuned ROC AUC Score:\", roc_auc_score(y_valid, y_pred_tuned))\n"
   ]
  },
  {
   "cell_type": "markdown",
   "id": "11b984f2",
   "metadata": {},
   "source": [
    "After tuning the model, here's how the model's performance has changed:\n",
    "\n",
    "**Accuracy**: The accuracy has increased slightly from 84.04% to 84.59%. This is a minor improvement, but it's worth noting.\n",
    "\n",
    "**Confusion Matrix**: The number of true positives (TP) and true negatives (TN) has increased, while the number of false positives (FP) has decreased. The number of false negatives (FN) remains the same.\n",
    "\n",
    "**Precision**:\n",
    "   1. For class 0 (non-hazardous): The precision remains the same at 96%.\n",
    "   2. For class 1 (hazardous): The precision has increased slightly from 25% to 25.64%.\n",
    "\n",
    "**Recall**:\n",
    "   1. For class 0 (non-hazardous): The recall has increased slightly from 86% to 87%.\n",
    "   2. For class 1 (hazardous): The recall remains the same at 55%.\n",
    "\n",
    "**F1-score**:\n",
    "   1. For class 0 (non-hazardous): The F1-score remains the same at 91%.\n",
    "   2. For class 1 (hazardous): The F1-score has increased slightly from 34% to 35%.\n",
    "\n",
    "**ROC AUC Score**: The ROC AUC score has increased slightly from 70.50% to 70.80%.\n",
    "\n",
    "Overall, the tuned model has shown minor improvements in performance compared to the baseline model. The model still performs well on the non-hazardous class but struggles with the hazardous class. Further optimization or trying different algorithms might help improve the model's performance on the hazardous class."
   ]
  }
 ],
 "metadata": {
  "kernelspec": {
   "display_name": "Python 3 (ipykernel)",
   "language": "python",
   "name": "python3"
  },
  "language_info": {
   "codemirror_mode": {
    "name": "ipython",
    "version": 3
   },
   "file_extension": ".py",
   "mimetype": "text/x-python",
   "name": "python",
   "nbconvert_exporter": "python",
   "pygments_lexer": "ipython3",
   "version": "3.10.8"
  }
 },
 "nbformat": 4,
 "nbformat_minor": 5
}
